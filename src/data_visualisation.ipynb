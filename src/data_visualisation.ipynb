{
 "cells": [
  {
   "cell_type": "code",
   "execution_count": 1,
   "id": "ed8e405d",
   "metadata": {},
   "outputs": [],
   "source": [
    "import pandas as pd"
   ]
  },
  {
   "cell_type": "code",
   "execution_count": 16,
   "id": "094539ff",
   "metadata": {},
   "outputs": [],
   "source": [
    "data_set1 = pd.read_excel(\"../Data/1_History_Pandemics.xlsx\")\n",
    "data_set2_mortality = pd.read_excel(\"../Data/2_All_cantons_1953-1958_Mortality.xlsx\")\n",
    "data_set2_incidence_weekly = pd.read_excel(\"../Data/2_Data_cantons_incidence_weekly_56_58_NEW.xlsx\")\n",
    "data_set2_population = pd.read_excel(\"../Data/2_Population_cantons.xlsx\")\n",
    "data_set3 = pd.read_excel(\"../Data/3_Todesursachen Schweiz ohne Alter 1876-2002.xlsx\")"
   ]
  },
  {
   "cell_type": "markdown",
   "id": "00745164",
   "metadata": {},
   "source": [
    "## Dataset 1 approx. 3"
   ]
  },
  {
   "cell_type": "code",
   "execution_count": null,
   "id": "f2143f48",
   "metadata": {},
   "outputs": [],
   "source": [
    "# Influenza/Covid deaths"
   ]
  },
  {
   "cell_type": "code",
   "execution_count": null,
   "id": "9dbf627e",
   "metadata": {},
   "outputs": [],
   "source": [
    "# Compared to the population with influenza and Covid"
   ]
  },
  {
   "cell_type": "code",
   "execution_count": null,
   "id": "3cedf9b0",
   "metadata": {},
   "outputs": [],
   "source": [
    "# Excess mortality"
   ]
  },
  {
   "cell_type": "markdown",
   "id": "6c47a4e9",
   "metadata": {},
   "source": [
    "## Dataset 2 approx 7"
   ]
  },
  {
   "cell_type": "code",
   "execution_count": null,
   "id": "31bc0b13",
   "metadata": {},
   "outputs": [],
   "source": [
    "# Population of the individual cantons and Switzerland as a whole"
   ]
  },
  {
   "cell_type": "code",
   "execution_count": null,
   "id": "cd8228c9",
   "metadata": {},
   "outputs": [],
   "source": [
    "# Influenza waves monthly and weekly (per canton and Switzerland)"
   ]
  },
  {
   "cell_type": "code",
   "execution_count": null,
   "id": "b0d8f5c5",
   "metadata": {},
   "outputs": [],
   "source": [
    "# Comparison of influenza deaths and general deaths (per canton and Switzerland)"
   ]
  },
  {
   "cell_type": "code",
   "execution_count": null,
   "id": "eb17ea0c",
   "metadata": {},
   "outputs": [],
   "source": [
    "# Visualise 1957 and 1958 (weekly cases and monthly deaths)"
   ]
  },
  {
   "cell_type": "code",
   "execution_count": null,
   "id": "e314e946",
   "metadata": {},
   "outputs": [],
   "source": []
  },
  {
   "cell_type": "code",
   "execution_count": null,
   "id": "9c4b3392",
   "metadata": {},
   "outputs": [],
   "source": []
  },
  {
   "cell_type": "code",
   "execution_count": null,
   "id": "d59202f5",
   "metadata": {},
   "outputs": [],
   "source": []
  },
  {
   "cell_type": "markdown",
   "id": "df026b57",
   "metadata": {},
   "source": [
    "## Dataset 3"
   ]
  },
  {
   "cell_type": "code",
   "execution_count": null,
   "id": "cebbdbca",
   "metadata": {},
   "outputs": [],
   "source": [
    "# Causes of death infectious diseases, respiratory or-gans, neoplasms, nervous system and circulatory organs, blood metabolism, digestive organs, haemato-poietic system, violent death etc. by year"
   ]
  },
  {
   "cell_type": "code",
   "execution_count": null,
   "id": "4e1e9dfa",
   "metadata": {},
   "outputs": [],
   "source": [
    "# Take a closer look at infectious diseases (subgroups) over the years"
   ]
  },
  {
   "cell_type": "code",
   "execution_count": null,
   "id": "62028aed",
   "metadata": {},
   "outputs": [],
   "source": [
    "# Possibly also take a closer look at the other sub-groups over the years"
   ]
  }
 ],
 "metadata": {
  "kernelspec": {
   "display_name": "vdss",
   "language": "python",
   "name": "python3"
  },
  "language_info": {
   "codemirror_mode": {
    "name": "ipython",
    "version": 3
   },
   "file_extension": ".py",
   "mimetype": "text/x-python",
   "name": "python",
   "nbconvert_exporter": "python",
   "pygments_lexer": "ipython3",
   "version": "3.10.17"
  }
 },
 "nbformat": 4,
 "nbformat_minor": 5
}
